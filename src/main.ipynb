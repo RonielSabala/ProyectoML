{
 "cells": [
  {
   "cell_type": "markdown",
   "metadata": {},
   "source": [
    "Importar las librerias necesarias:\n"
   ]
  },
  {
   "cell_type": "code",
   "execution_count": null,
   "metadata": {},
   "outputs": [],
   "source": [
    "# Herramientas de sklearn\n",
    "from sklearn.preprocessing import LabelEncoder, StandardScaler\n",
    "from sklearn.model_selection import train_test_split\n",
    "from sklearn.metrics import mean_squared_error\n",
    "\n",
    "# Modelos de sklearn\n",
    "from sklearn.linear_model import LinearRegression\n",
    "from sklearn.linear_model import Ridge\n",
    "from sklearn.linear_model import BayesianRidge\n",
    "from sklearn.linear_model import Lasso\n",
    "from sklearn.neighbors import KNeighborsRegressor\n",
    "from sklearn.ensemble import RandomForestRegressor\n",
    "from sklearn.svm import SVR\n",
    "from sklearn.neural_network import MLPRegressor\n",
    "\n",
    "# Librerias complementarias\n",
    "import warnings\n",
    "import numpy as np\n",
    "import pandas as pd\n",
    "import seaborn as sns\n",
    "import matplotlib.pyplot as plt\n",
    "from typing import Any\n",
    "\n",
    "# Configurar visualización y desactivar warnings\n",
    "%matplotlib inline\n",
    "warnings.filterwarnings(\"ignore\")"
   ]
  },
  {
   "cell_type": "markdown",
   "metadata": {},
   "source": [
    "## 1. Recolección de la data\n"
   ]
  },
  {
   "cell_type": "markdown",
   "metadata": {},
   "source": [
    "Obtener el dataset."
   ]
  },
  {
   "cell_type": "code",
   "execution_count": null,
   "metadata": {},
   "outputs": [],
   "source": [
    "def get_dataset(file_path: str) -> pd.DataFrame:\n",
    "    \"\"\"\n",
    "    Función para obtener un dataset de una ruta específica.\n",
    "    \n",
    "    Parámetros:\n",
    "        - file_path: La ruta al dataset.\n",
    "\n",
    "    Devuelve:\n",
    "    El dataset como un objeto DataFrame.\n",
    "    \"\"\"\n",
    "\n",
    "    return pd.read_csv(file_path)"
   ]
  },
  {
   "cell_type": "code",
   "execution_count": null,
   "metadata": {},
   "outputs": [],
   "source": [
    "df = get_dataset(\"raw_dataset.csv\")"
   ]
  },
  {
   "cell_type": "markdown",
   "metadata": {},
   "source": [
    "Estructura del dataset."
   ]
  },
  {
   "cell_type": "code",
   "execution_count": null,
   "metadata": {},
   "outputs": [],
   "source": [
    "df.head()"
   ]
  },
  {
   "cell_type": "code",
   "execution_count": null,
   "metadata": {},
   "outputs": [],
   "source": [
    "df.info()"
   ]
  },
  {
   "cell_type": "markdown",
   "metadata": {},
   "source": [
    "## 2. Preparación / preprocesamiento de la data\n"
   ]
  },
  {
   "cell_type": "markdown",
   "metadata": {},
   "source": [
    "Herramientas para la estandarización de los datos."
   ]
  },
  {
   "cell_type": "code",
   "execution_count": null,
   "metadata": {},
   "outputs": [],
   "source": [
    "SCALER = StandardScaler()\n",
    "LABEL_ENCODER = LabelEncoder()"
   ]
  },
  {
   "cell_type": "markdown",
   "metadata": {},
   "source": [
    "Normalización del dataset."
   ]
  },
  {
   "cell_type": "code",
   "execution_count": null,
   "metadata": {},
   "outputs": [],
   "source": [
    "def get_normalized_dataset(dataset: pd.DataFrame) -> pd.DataFrame:\n",
    "    \"\"\"\n",
    "    Normaliza un dataset proporcionado.\n",
    "\n",
    "    Parámetros:\n",
    "        - df: Dataset a normalizar.\n",
    "\n",
    "    Devuelve: El dataset normalizado.\n",
    "    \"\"\"\n",
    "\n",
    "    # a. Eliminación de características redundantes o innecesarias\n",
    "    dataset.drop_duplicates(inplace=True)\n",
    "\n",
    "    # b. Limpieza de filas nulas, vacías o con error\n",
    "    dataset.replace([\"\", \" \", \"?\", \"None\", \"N/A\", \"na\"], pd.NA, inplace=True)\n",
    "    dataset = dataset.dropna()\n",
    "    dataset.reset_index(drop=True, inplace=True)\n",
    "\n",
    "    # c. Encoder o codificador a las características no numéricas\n",
    "    dataset[\"smoker\"].replace({\"yes\": 1, \"no\": 0}, inplace=True)\n",
    "    dataset[\"sex\"].replace({\"male\": 1, \"female\": 0}, inplace=True)\n",
    "    dataset[\"region\"] = LABEL_ENCODER.fit_transform(dataset[\"region\"])\n",
    "\n",
    "    # d. Normalizar y estandarizar la data con un escalador de datos\n",
    "    num_data = dataset.select_dtypes(include=\"number\")\n",
    "    scaled_data = SCALER.fit_transform(num_data)\n",
    "    dataset = pd.DataFrame(scaled_data, columns=num_data.columns)\n",
    "\n",
    "    return dataset"
   ]
  },
  {
   "cell_type": "code",
   "execution_count": null,
   "metadata": {},
   "outputs": [],
   "source": [
    "df = get_normalized_dataset(df)"
   ]
  },
  {
   "cell_type": "markdown",
   "metadata": {},
   "source": [
    "## 3. Análisis descriptivo de la data (EDA)\n"
   ]
  },
  {
   "cell_type": "markdown",
   "metadata": {},
   "source": [
    "#### a. Analisis de la data con gráficas"
   ]
  },
  {
   "cell_type": "markdown",
   "metadata": {},
   "source": [
    "Conteo de Frecuencia para Variables Numericas\n",
    "\n",
    "* Estas gráficas nos permiten visualizar la distribución de las diferentes variables numericas y detectar posibles sesgos o outliers."
   ]
  },
  {
   "cell_type": "code",
   "execution_count": null,
   "metadata": {},
   "outputs": [],
   "source": [
    "num_cols = df.select_dtypes(include=np.number).columns\n",
    "\n",
    "for col in num_cols:\n",
    "    fig, axes = plt.subplots(1, 2, figsize=(12, 5))\n",
    "    \n",
    "    sns.histplot(df[col].dropna(), kde=True, color='blue', ax=axes[0]) # type: ignore\n",
    "    axes[0].set_title(f'Distribution of {col}')\n",
    "    \n",
    "    sns.boxplot(x=df[col], ax=axes[1])\n",
    "    axes[1].set_title(f'Boxplot of {col}')\n",
    "    \n",
    "    plt.tight_layout()\n",
    "    plt.show()"
   ]
  },
  {
   "cell_type": "markdown",
   "metadata": {},
   "source": [
    "Conteo de Frecuencia para Variables Categóricas\n",
    "* Usamos countplots para ver la distribución de frecuencias de las variables categóricas, como \"sex\", \"smoker\" y \"region\"."
   ]
  },
  {
   "cell_type": "code",
   "execution_count": null,
   "metadata": {},
   "outputs": [],
   "source": [
    "cat_cols = df.select_dtypes(include='object').columns\n",
    "\n",
    "if len(cat_cols) == 0:\n",
    "    print(\"No categorical columns found in this dataset.\")\n",
    "else:\n",
    "    for col in cat_cols:\n",
    "        if df[col].nunique() < 20:\n",
    "            plt.figure()\n",
    "            sns.countplot(data=df, x=col, order=df[col].value_counts().index, palette='pastel')\n",
    "            plt.xticks(rotation=45)\n",
    "            plt.title(f'Distribution of {col}')\n",
    "            plt.tight_layout()\n",
    "            plt.show()"
   ]
  },
  {
   "cell_type": "markdown",
   "metadata": {},
   "source": [
    "Relación entre \"age\" y \"charges\".\n",
    "* Permite explorar la posible relación entre la edad del paciente y el monto de los gastos médicos."
   ]
  },
  {
   "cell_type": "code",
   "execution_count": null,
   "metadata": {},
   "outputs": [],
   "source": [
    "sns.scatterplot(x='age', y='charges', hue='smoker', data=df, palette='coolwarm', s=100)\n",
    "plt.title('Relación entre Edad y Gastos Médicos')\n",
    "plt.xlabel('Edad')\n",
    "plt.ylabel('Gastos Médicos')\n",
    "plt.legend(title='Fumador')\n",
    "plt.show()"
   ]
  },
  {
   "cell_type": "markdown",
   "metadata": {},
   "source": [
    "Relación entre \"bmi\" y \"charges\".\n",
    "\n",
    "* En este diagrama se visualiza la relación entre el índice de masa corporal y los gastos médicos. \n",
    "* Se utiliza el color para diferenciar entre fumadores y no fumadores."
   ]
  },
  {
   "cell_type": "code",
   "execution_count": null,
   "metadata": {},
   "outputs": [],
   "source": [
    "sns.scatterplot(x='bmi', y='charges', hue='smoker', data=df, palette='Set1', s=100)\n",
    "plt.title('Relación entre BMI y Gastos Médicos')\n",
    "plt.xlabel('BMI')\n",
    "plt.ylabel('Gastos Médicos')\n",
    "plt.legend(title='Fumador')\n",
    "plt.show()"
   ]
  },
  {
   "cell_type": "markdown",
   "metadata": {},
   "source": [
    "Heatmap de Correlaciones\n",
    "\n",
    "* Este mapa de calor muestra la correlación entre las variables numéricas y permite identificar relaciones potenciales."
   ]
  },
  {
   "cell_type": "code",
   "execution_count": null,
   "metadata": {},
   "outputs": [],
   "source": [
    "correlation = df[['age', 'bmi', 'children', 'charges']].corr()\n",
    "sns.heatmap(correlation, annot=True, cmap='coolwarm', fmt=\".2f\")\n",
    "plt.title('Mapa de Calor de Correlaciones')\n",
    "plt.show()"
   ]
  },
  {
   "cell_type": "markdown",
   "metadata": {},
   "source": [
    "#### b. Interpretación las estadísticas de los datos\n"
   ]
  },
  {
   "cell_type": "markdown",
   "metadata": {},
   "source": [
    "Estadísticas del dataset."
   ]
  },
  {
   "cell_type": "code",
   "execution_count": null,
   "metadata": {},
   "outputs": [],
   "source": [
    "df.describe()"
   ]
  },
  {
   "cell_type": "markdown",
   "metadata": {},
   "source": [
    "##### Observaciones"
   ]
  },
  {
   "cell_type": "markdown",
   "metadata": {},
   "source": [
    "1. Edad (age)"
   ]
  },
  {
   "cell_type": "markdown",
   "metadata": {},
   "source": [
    "La edad mínima es de 18 años y la máxima de 64, lo que indica que la muestra abarca adultos jóvenes hasta adultos de mediana edad o mayores dentro de este rango.\n",
    "\n",
    "La media es aproximadamente 39.21 años, con una mediana cercana a 39 años, lo que sugiere que la distribución de las edades es simétrica o al menos no muy sesgada.\n",
    "\n",
    "El primer cuartil (25%) es de 27 años, lo que significa que el 25% de la muestra tiene 27 años o menos.\n",
    "\n",
    "El tercer cuartil (75%) es de 51 años, indicando que el 75% de los casos tienen menos de 51 años."
   ]
  },
  {
   "cell_type": "markdown",
   "metadata": {},
   "source": [
    "2. Índice de Masa Corporal (bmi)"
   ]
  },
  {
   "cell_type": "markdown",
   "metadata": {},
   "source": [
    "El bmi varía desde un mínimo de 15.96 hasta un máximo de 53.13.\n",
    "\n",
    "La media es aproximadamente 30.66, y la mediana es de 30.40. Esto señala que en promedio la población se encuentra en el rango de sobrepeso u obesidad, dado que un bmi superior a 30 se asocia generalmente a obesidad.\n",
    "\n",
    "El 25% de los individuos tiene un bmi menor o igual a 26.30, un valor que se encuentra en el rango normal o ligeramente superior.\n",
    "\n",
    "El 75% tiene un bmi menor o igual a 34.69, lo que implica que mientras muchos se encuentran en la zona del sobrepeso, una parte significativa presenta valores que indican obesidad.\n"
   ]
  },
  {
   "cell_type": "markdown",
   "metadata": {},
   "source": [
    "3. Número de Hijos (children)"
   ]
  },
  {
   "cell_type": "markdown",
   "metadata": {},
   "source": [
    "El mínimo indica que hay encuestados sin hijos y el máximo, que hay individuos con hasta 5 hijos.\n",
    "\n",
    "La media es de aproximadamente 1.09 hijos, lo que sugiere que, en promedio, los encuestados tienen poco más de un hijo.\n",
    "\n",
    "El percentil 25 es 0, lo que indica que el 25% de la muestra no tiene hijos. El percentil 75 es 2, lo que señala que el 75% de la población tiene hasta 2 hijos."
   ]
  },
  {
   "cell_type": "markdown",
   "metadata": {},
   "source": [
    "4. Cargos (charges)"
   ]
  },
  {
   "cell_type": "markdown",
   "metadata": {},
   "source": [
    "La media de los cargos es de alrededor de 13270.42, mientras que la mediana es de 9382.03. La diferencia entre ambos (con una media mayor que la mediana) sugiere la presencia de valores atípicos o una distribución sesgada a la derecha.\n",
    "\n",
    "25% de los cargos es igual o inferior a 4740.29, lo que indica que una parte significativa de la muestra incurre en costos relativamente bajos.\n",
    "\n",
    "El 75% se sitúa en o por debajo de 16639.91, y los valores máximos muy altos empujan la media hacia arriba."
   ]
  },
  {
   "cell_type": "markdown",
   "metadata": {},
   "source": [
    "##### Conclusión general"
   ]
  },
  {
   "cell_type": "markdown",
   "metadata": {},
   "source": [
    "La población encuestada está compuesta por adultos con edades comprendidas entre 18 y 64 años, con una distribución centrada en torno a los 39 años.\n",
    "\n",
    "La mayoría de los individuos presenta valores de bmi en el rango de sobrepeso o incluso obesidad, lo que podría estar relacionado con ciertos riesgos para la salud. Además, la cantidad de hijos, predominantemente uno o dos, da una idea del contexto familiar típico en este grupo.\n",
    "\n",
    "Los cargos presentan una variabilidad considerable, lo que puede estar asociado a factores como la edad, el estado de salud (reflejado en el bmi) y quizás el número de hijos, lo que puede influir en el costo de seguros o tratamientos médicos.\n"
   ]
  },
  {
   "cell_type": "markdown",
   "metadata": {},
   "source": [
    "## 4. Entrenamiento del modelo\n"
   ]
  },
  {
   "cell_type": "markdown",
   "metadata": {},
   "source": [
    "Modelos a entrenar."
   ]
  },
  {
   "cell_type": "code",
   "execution_count": null,
   "metadata": {},
   "outputs": [],
   "source": [
    "MODEL_NAMES = [\n",
    "    \"Ordinary Least Squares\",\n",
    "    \"Ridge Regression\",\n",
    "    \"Bayesian Regression\",\n",
    "    \"Lasso Regression\",\n",
    "    \"Nearest Neighbors Regression\",\n",
    "    \"Random Forest Regression\",\n",
    "    \"SVM Regression\",\n",
    "    \"Neural Network MLP Regression\",\n",
    "]"
   ]
  },
  {
   "cell_type": "markdown",
   "metadata": {},
   "source": [
    "##### Setup inicial"
   ]
  },
  {
   "cell_type": "markdown",
   "metadata": {},
   "source": [
    "a. División del dataset en entradas y salidas/etiquetas (x, y)."
   ]
  },
  {
   "cell_type": "code",
   "execution_count": null,
   "metadata": {},
   "outputs": [],
   "source": [
    "# Variables de entrada\n",
    "X = df.drop(\"charges\", axis=1)\n",
    "\n",
    "# Variable de salida\n",
    "y = df[\"charges\"]"
   ]
  },
  {
   "cell_type": "markdown",
   "metadata": {},
   "source": [
    "b. División del dataset en entrenamiento y testeo."
   ]
  },
  {
   "cell_type": "code",
   "execution_count": null,
   "metadata": {},
   "outputs": [],
   "source": [
    "# (80% entrenamiento, 20% testeo)\n",
    "X_train, X_test, y_train, y_test = train_test_split(X, y, test_size=0.2, random_state=0)"
   ]
  },
  {
   "cell_type": "markdown",
   "metadata": {},
   "source": [
    "##### Creación de los modelos"
   ]
  },
  {
   "cell_type": "code",
   "execution_count": null,
   "metadata": {},
   "outputs": [],
   "source": [
    "# Ordinary Least Squares Regression\n",
    "ols_model = LinearRegression()\n",
    "\n",
    "# Ridge Regression\n",
    "ridge_model = Ridge(alpha=1.0)\n",
    "\n",
    "# Bayesian Regression\n",
    "bayesian_model = BayesianRidge()\n",
    "\n",
    "# Lasso Regression\n",
    "lasso_model = Lasso(alpha=0.1)\n",
    "\n",
    "# Nearest Neighbors Regression\n",
    "knn_model = KNeighborsRegressor(n_neighbors=5)\n",
    "\n",
    "# Random Forest Regression\n",
    "rf_model = RandomForestRegressor(n_estimators=100, random_state=1, n_jobs=-1)\n",
    "\n",
    "# SVM (Support Vector Machine) Regression\n",
    "svm_model = SVR(kernel=\"rbf\", C=1.0, epsilon=0.2)\n",
    "\n",
    "# Neural Network MLP Regression\n",
    "mlp_model = MLPRegressor(hidden_layer_sizes=(100,), max_iter=500, random_state=1)"
   ]
  },
  {
   "cell_type": "code",
   "execution_count": null,
   "metadata": {},
   "outputs": [],
   "source": [
    "# Emparejar cada modelo con su nombre.\n",
    "MODELS = {\n",
    "    k: v\n",
    "    for k, v in zip(\n",
    "        MODEL_NAMES,\n",
    "        [\n",
    "            ols_model,\n",
    "            ridge_model,\n",
    "            bayesian_model,\n",
    "            lasso_model,\n",
    "            knn_model,\n",
    "            rf_model,\n",
    "            svm_model,\n",
    "            mlp_model,\n",
    "        ],\n",
    "    )\n",
    "}"
   ]
  },
  {
   "cell_type": "markdown",
   "metadata": {},
   "source": [
    "Entrenamiento de los modelos."
   ]
  },
  {
   "cell_type": "code",
   "execution_count": null,
   "metadata": {},
   "outputs": [],
   "source": [
    "for model in MODELS.values():\n",
    "    model.fit(X_train, y_train)"
   ]
  },
  {
   "cell_type": "markdown",
   "metadata": {},
   "source": [
    "## 5. Validación y testeo del modelo\n"
   ]
  },
  {
   "cell_type": "markdown",
   "metadata": {},
   "source": [
    "#### a. Análisis de performance\n"
   ]
  },
  {
   "cell_type": "markdown",
   "metadata": {},
   "source": [
    "Función para obtener las métricas de cada modelo."
   ]
  },
  {
   "cell_type": "code",
   "execution_count": null,
   "metadata": {},
   "outputs": [],
   "source": [
    "def get_all_metrics(_X_test=X_test, _y_test=y_test, models: dict[str, Any] = MODELS) -> pd.DataFrame:\n",
    "    \"\"\"\n",
    "    Calcula y devuelve las métricas de evaluación de\n",
    "    todos los modelos entrenados.\n",
    "\n",
    "    Parámetros:\n",
    "    _X_test : pd.DataFrame, opcional\n",
    "        Conjunto de datos de prueba con las variables\n",
    "        predictoras. Por defecto usa \"X_test\".\n",
    "\n",
    "    _y_test : pd.Series o np.array, opcional\n",
    "        Conjunto de valores reales (etiquetas) correspondientes a\n",
    "        las muestras de prueba. Por defecto usa \"y_test\".\n",
    "\n",
    "    models :\n",
    "        Los modelos a usar.\n",
    "\n",
    "    Devuelve:\n",
    "        Un dataframe que representa todas las métricas.\n",
    "    \"\"\"\n",
    "\n",
    "    metrics = {\n",
    "        model_name: {\n",
    "            \"R² Score\": model.score(_X_test, _y_test),\n",
    "            \"MSE\": mean_squared_error(_y_test, model.predict(_X_test)), # type: ignore\n",
    "        }\n",
    "        for model_name, model in models.items()\n",
    "    }\n",
    "\n",
    "\n",
    "    return pd.DataFrame(metrics).T"
   ]
  },
  {
   "cell_type": "code",
   "execution_count": null,
   "metadata": {},
   "outputs": [],
   "source": [
    "METRICS = get_all_metrics()"
   ]
  },
  {
   "cell_type": "markdown",
   "metadata": {},
   "source": [
    "##### - R² Score"
   ]
  },
  {
   "cell_type": "code",
   "execution_count": null,
   "metadata": {},
   "outputs": [],
   "source": [
    "def show_R2(df: pd.DataFrame) -> None:\n",
    "    \"\"\"\n",
    "    Muestra un gráfico de barras que compara el R² Score\n",
    "    de cada modelo.\n",
    "\n",
    "    Parámetros:\n",
    "    df : pandas.DataFrame\n",
    "        DataFrame que contiene, al menos, la columna \"R² Score\"\n",
    "        y cuyos índices representan los nombres de los modelos.\n",
    "\n",
    "    Retorna: None\n",
    "        La función únicamente muestra el gráfico, sin retornar ningún valor.\n",
    "    \"\"\"\n",
    "\n",
    "    plt.subplot(1, 2, 1)\n",
    "    sns.barplot(x=df.index, y=df[\"R² Score\"], palette=\"viridis\")\n",
    "    plt.title(\"Comparativa R² Score por Modelo\")\n",
    "    plt.xlabel(\"Modelo\")\n",
    "    plt.ylabel(\"R² Score\")\n",
    "    plt.xticks(rotation=45, ha=\"right\")\n",
    "    plt.tight_layout()\n",
    "    plt.show()"
   ]
  },
  {
   "cell_type": "code",
   "execution_count": null,
   "metadata": {},
   "outputs": [],
   "source": [
    "show_R2(METRICS)"
   ]
  },
  {
   "cell_type": "markdown",
   "metadata": {},
   "source": [
    "##### - MSE"
   ]
  },
  {
   "cell_type": "code",
   "execution_count": null,
   "metadata": {},
   "outputs": [],
   "source": [
    "def show_MSE(df: pd.DataFrame) -> None:\n",
    "    \"\"\"\n",
    "    Muestra un gráfico de barras que compara el MSE\n",
    "    de cada modelo.\n",
    "\n",
    "    Parámetros:\n",
    "    df : pandas.DataFrame\n",
    "        DataFrame que contiene al menos la columna \"MSE\" y\n",
    "        cuyos índices representan los nombres de los modelos.\n",
    "\n",
    "    Retorna: None\n",
    "        La función únicamente muestra el gráfico, sin retornar\n",
    "        ningún valor.\n",
    "    \"\"\"\n",
    "\n",
    "    plt.subplot(1, 2, 2)\n",
    "    sns.barplot(x=df.index, y=df[\"MSE\"], palette=\"rocket_r\")\n",
    "    plt.title(\"Comparativa MSE por Modelo\")\n",
    "    plt.xlabel(\"Modelo\")\n",
    "    plt.ylabel(\"MSE\")\n",
    "    plt.xticks(rotation=45, ha=\"right\")\n",
    "    plt.tight_layout()\n",
    "    plt.show()"
   ]
  },
  {
   "cell_type": "code",
   "execution_count": null,
   "metadata": {},
   "outputs": [],
   "source": [
    "show_MSE(METRICS)"
   ]
  },
  {
   "cell_type": "markdown",
   "metadata": {},
   "source": [
    "#### b. Selección del algoritmo óptimo\n"
   ]
  },
  {
   "cell_type": "markdown",
   "metadata": {},
   "source": [
    "##### Modelo seleccionado"
   ]
  },
  {
   "cell_type": "markdown",
   "metadata": {},
   "source": [
    "El análisis de las métricas sugiere que el modelo de Neural Network MLP es el más adecuado para este problema."
   ]
  },
  {
   "cell_type": "code",
   "execution_count": null,
   "metadata": {},
   "outputs": [],
   "source": [
    "MODELO_OPTIMO = mlp_model"
   ]
  },
  {
   "cell_type": "markdown",
   "metadata": {},
   "source": [
    "##### Justificación"
   ]
  },
  {
   "cell_type": "markdown",
   "metadata": {},
   "source": [
    "1. El R² Score es de 0.847072, el cual es el más alto de todos los modelos evaluados, es decir, este modelo explica aproximadamente el 84.7% de la variabilidad de los datos."
   ]
  },
  {
   "cell_type": "markdown",
   "metadata": {},
   "source": [
    "2. El MSE (Error Cuadrático Medio) es de 0.175550, el cual es el más bajo de todos los modelos evaluados."
   ]
  },
  {
   "cell_type": "markdown",
   "metadata": {},
   "source": [
    "3. Una red neuronal (MLP) es capaz de aprender y entender relaciones complejas y no lineales con los predictores, como es el caso de los efectos combinados de edad, bmi y hábito de fumar."
   ]
  },
  {
   "cell_type": "markdown",
   "metadata": {},
   "source": [
    "## 6. Despliegue del modelo y comprobación con data recién creada\n"
   ]
  },
  {
   "cell_type": "markdown",
   "metadata": {},
   "source": [
    "##### a. Conversión de data nueva cruda a formato de entrada del algoritmo"
   ]
  },
  {
   "cell_type": "markdown",
   "metadata": {},
   "source": [
    "1. Ruta del nuevo dataset."
   ]
  },
  {
   "cell_type": "code",
   "execution_count": null,
   "metadata": {},
   "outputs": [],
   "source": [
    "dataset_nuevo = \"test_dataset.csv\""
   ]
  },
  {
   "cell_type": "markdown",
   "metadata": {},
   "source": [
    "2. Carga de datos y estandarización."
   ]
  },
  {
   "cell_type": "code",
   "execution_count": null,
   "metadata": {},
   "outputs": [],
   "source": [
    "new_df = get_dataset(dataset_nuevo)\n",
    "new_df = get_normalized_dataset(new_df)"
   ]
  },
  {
   "cell_type": "markdown",
   "metadata": {},
   "source": [
    "##### b. Predicción de categoría del dato"
   ]
  },
  {
   "cell_type": "markdown",
   "metadata": {},
   "source": [
    "Datos de entrada y de salida del nuevo dataset."
   ]
  },
  {
   "cell_type": "code",
   "execution_count": null,
   "metadata": {},
   "outputs": [],
   "source": [
    "new_X_test = new_df.drop(\"charges\", axis=1)\n",
    "new_y_test = new_df[\"charges\"]"
   ]
  },
  {
   "cell_type": "markdown",
   "metadata": {},
   "source": [
    "Función para obtener las predicciones."
   ]
  },
  {
   "cell_type": "code",
   "execution_count": null,
   "metadata": {},
   "outputs": [],
   "source": [
    "def predict(X_test, models: dict[str, Any] = MODELS) -> pd.DataFrame:\n",
    "    \"\"\"\n",
    "    Genera predicciones utilizando los modelos entrenados\n",
    "    para un conjunto de datos de prueba.\n",
    "\n",
    "    Parámetros:\n",
    "        - X_test: El conjuto de datos de prueba de entrada.\n",
    "        - models: Los modelos a usar para predecir.\n",
    "    \n",
    "    Retorna: pandas.DataFrame\n",
    "        Un DataFrame que contiene las predicciones de cada modelo (limitado a las primeras filas).\n",
    "    \"\"\"\n",
    "\n",
    "    predictions = {}\n",
    "    for model_name, model in models.items():\n",
    "        predictions[model_name] = model.predict(X_test)\n",
    "\n",
    "    return pd.DataFrame(predictions).head()"
   ]
  },
  {
   "cell_type": "code",
   "execution_count": null,
   "metadata": {},
   "outputs": [],
   "source": [
    "predict(new_X_test)"
   ]
  },
  {
   "cell_type": "markdown",
   "metadata": {},
   "source": [
    "Mostrar el rendimiento de cada modelo."
   ]
  },
  {
   "cell_type": "code",
   "execution_count": null,
   "metadata": {},
   "outputs": [],
   "source": [
    "def show_performance(X_test, y_test, models: dict[str, Any] = MODELS) -> None:\n",
    "    \"\"\"\n",
    "    Calcula y muestra las métricas de rendimiento de todos los\n",
    "    modelos para un conjunto de datos de prueba.\n",
    "\n",
    "    Parámetros:\n",
    "        - X_test: El conjuto de datos de prueba de entrada.\n",
    "        - y_test: El conjuto de datos de prueba de salida.\n",
    "        - models: Los modelos a testear.\n",
    "\n",
    "    Retorna: None\n",
    "        Solo muestra las gráficas.\n",
    "    \"\"\"\n",
    "\n",
    "    metrics = get_all_metrics(X_test, y_test, models)\n",
    "    show_R2(metrics)\n",
    "    show_MSE(metrics)"
   ]
  },
  {
   "cell_type": "code",
   "execution_count": null,
   "metadata": {},
   "outputs": [],
   "source": [
    "show_performance(new_X_test, new_y_test)"
   ]
  }
 ],
 "metadata": {
  "kernelspec": {
   "display_name": "Python 3",
   "language": "python",
   "name": "python3"
  },
  "language_info": {
   "codemirror_mode": {
    "name": "ipython",
    "version": 3
   },
   "file_extension": ".py",
   "mimetype": "text/x-python",
   "name": "python",
   "nbconvert_exporter": "python",
   "pygments_lexer": "ipython3",
   "version": "3.11.8"
  }
 },
 "nbformat": 4,
 "nbformat_minor": 2
}
