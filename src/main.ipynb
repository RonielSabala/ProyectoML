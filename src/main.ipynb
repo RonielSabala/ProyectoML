{
 "cells": [
  {
   "cell_type": "markdown",
   "metadata": {},
   "source": [
    "Importar las librerias necesarias:\n"
   ]
  },
  {
   "cell_type": "code",
   "execution_count": null,
   "metadata": {},
   "outputs": [],
   "source": [
    "# Herramientas de sklearn\n",
    "from sklearn.preprocessing import LabelEncoder, StandardScaler\n",
    "from sklearn.model_selection import train_test_split\n",
    "from sklearn.metrics import mean_squared_error\n",
    "\n",
    "# Modelos de sklearn\n",
    "from sklearn.linear_model import LinearRegression\n",
    "from sklearn.linear_model import Ridge\n",
    "from sklearn.linear_model import BayesianRidge\n",
    "from sklearn.linear_model import Lasso\n",
    "from sklearn.neighbors import KNeighborsRegressor\n",
    "from sklearn.ensemble import RandomForestRegressor\n",
    "from sklearn.svm import SVR\n",
    "from sklearn.neural_network import MLPRegressor\n",
    "\n",
    "# Librerias complementarias\n",
    "import warnings\n",
    "import pandas as pd\n",
    "import seaborn as sns\n",
    "import matplotlib.pyplot as plt\n",
    "\n",
    "# Configurar visualización y desactivar warnings\n",
    "%matplotlib inline\n",
    "warnings.filterwarnings(\"ignore\")"
   ]
  },
  {
   "cell_type": "markdown",
   "metadata": {},
   "source": [
    "## 1. Recolección de la data\n"
   ]
  },
  {
   "cell_type": "markdown",
   "metadata": {},
   "source": [
    "Obtener el dataset."
   ]
  },
  {
   "cell_type": "code",
   "execution_count": null,
   "metadata": {},
   "outputs": [],
   "source": [
    "def get_dataset(file_path: str) -> pd.DataFrame:\n",
    "    \"\"\"\n",
    "    Función para obtener un dataset en una ruta en especifica.\n",
    "    \n",
    "    Parametros:\n",
    "        - file_path: La ruta al dataset.\n",
    "\n",
    "    Devuelve:\n",
    "    El dataset como un objeto DataFrame.\n",
    "    \"\"\"\n",
    "\n",
    "    return pd.read_csv(file_path)"
   ]
  },
  {
   "cell_type": "code",
   "execution_count": null,
   "metadata": {},
   "outputs": [],
   "source": [
    "df = get_dataset(\"raw_dataset.csv\")"
   ]
  },
  {
   "cell_type": "markdown",
   "metadata": {},
   "source": [
    "Estructura del dataset."
   ]
  },
  {
   "cell_type": "code",
   "execution_count": null,
   "metadata": {},
   "outputs": [],
   "source": [
    "df.head()"
   ]
  },
  {
   "cell_type": "markdown",
   "metadata": {},
   "source": [
    "## 2. Preparación / preprocesamiento de la data\n"
   ]
  },
  {
   "cell_type": "markdown",
   "metadata": {},
   "source": [
    "Herramientas para normalizar un dataset."
   ]
  },
  {
   "cell_type": "code",
   "execution_count": null,
   "metadata": {},
   "outputs": [],
   "source": [
    "# Escalador\n",
    "SCALER = StandardScaler()\n",
    "\n",
    "# Codificador\n",
    "LABEL_ENCODER = LabelEncoder()"
   ]
  },
  {
   "cell_type": "markdown",
   "metadata": {},
   "source": [
    "Normalizar el dataset."
   ]
  },
  {
   "cell_type": "code",
   "execution_count": null,
   "metadata": {},
   "outputs": [],
   "source": [
    "def get_normalized_dataset(dataset: pd.DataFrame) -> pd.DataFrame:\n",
    "    \"\"\"\n",
    "    Normaliza un dataset proporcionado.\n",
    "\n",
    "    Parametros:\n",
    "        - df: Dataset a normalizar.\n",
    "\n",
    "    Devuelve:\n",
    "    El dataset normalizado.\n",
    "    \"\"\"\n",
    "\n",
    "    # a. Eliminación de características redundantes o innecesarias\n",
    "    dataset.drop_duplicates(inplace=True)\n",
    "\n",
    "    # b. Limpieza de filas nulas, vacías o con error\n",
    "    dataset.replace([\"\", \" \", \"?\", \"None\", \"N/A\", \"na\"], pd.NA, inplace=True)\n",
    "    dataset = dataset.dropna()\n",
    "    dataset.reset_index(drop=True, inplace=True)\n",
    "\n",
    "    # c. Encoder o codificador a las características no numéricas\n",
    "    dataset[\"smoker\"].replace({\"yes\": 1, \"no\": 0}, inplace=True)\n",
    "    dataset[\"sex\"].replace({\"male\": 1, \"female\": 0}, inplace=True)\n",
    "    dataset[\"region\"] = LABEL_ENCODER.fit_transform(dataset[\"region\"])\n",
    "\n",
    "    # d. Normalizar y estandarizar la data con un escalador de datos\n",
    "    num_data = dataset.select_dtypes(include=\"number\")\n",
    "    scaled_data = SCALER.fit_transform(num_data)\n",
    "    dataset = pd.DataFrame(scaled_data, columns=num_data.columns)\n",
    "\n",
    "    return dataset"
   ]
  },
  {
   "cell_type": "code",
   "execution_count": null,
   "metadata": {},
   "outputs": [],
   "source": [
    "df = get_normalized_dataset(df)"
   ]
  },
  {
   "cell_type": "markdown",
   "metadata": {},
   "source": [
    "## 3. Análisis descriptivo de la data (EDA)\n"
   ]
  },
  {
   "cell_type": "markdown",
   "metadata": {},
   "source": [
    "#### a. Analisis de la data con gráficas\n"
   ]
  },
  {
   "cell_type": "markdown",
   "metadata": {},
   "source": [
    "1. Histograma de \"charges\"\n",
    "\n",
    "* Esta gráfica permite visualizar la distribución de los gastos médicos y detectar posibles sesgos o outliers."
   ]
  },
  {
   "cell_type": "code",
   "execution_count": null,
   "metadata": {},
   "outputs": [],
   "source": [
    "sns.histplot(df['charges'], kde=True, color='blue', bins=10) # type: ignore\n",
    "plt.title('Distribución de Charges')\n",
    "plt.xlabel('Gastos Médicos')\n",
    "plt.ylabel('Frecuencia')\n",
    "plt.show()"
   ]
  },
  {
   "cell_type": "markdown",
   "metadata": {},
   "source": [
    "2. Boxplot de \"charges\" segmentado por \"smoker\"\n",
    "\n",
    "* Esta gráfica nos ayuda a comparar la distribución de los gastos médicos entre fumadores y no fumadores."
   ]
  },
  {
   "cell_type": "code",
   "execution_count": null,
   "metadata": {},
   "outputs": [],
   "source": [
    "sns.boxplot(x='smoker', y='charges', data=df, palette='Set2')\n",
    "plt.title('Gastos Médicos por Estado de Fumador')\n",
    "plt.xlabel('Fumador')\n",
    "plt.ylabel('Gastos Médicos')\n",
    "plt.show()"
   ]
  },
  {
   "cell_type": "markdown",
   "metadata": {},
   "source": [
    "3. Scatter Plot: Relación entre \"bmi\" y \"charges\"\n",
    "\n",
    "* En este diagrama se visualiza la relación entre el índice de masa corporal y los gastos médicos. \n",
    "* Se utiliza el color para diferenciar entre fumadores y no fumadores."
   ]
  },
  {
   "cell_type": "code",
   "execution_count": null,
   "metadata": {},
   "outputs": [],
   "source": [
    "sns.scatterplot(x='bmi', y='charges', hue='smoker', data=df, palette='Set1', s=100)\n",
    "plt.title('Relación entre BMI y Gastos Médicos')\n",
    "plt.xlabel('BMI')\n",
    "plt.ylabel('Gastos Médicos')\n",
    "plt.legend(title='Fumador')\n",
    "plt.show()"
   ]
  },
  {
   "cell_type": "markdown",
   "metadata": {},
   "source": [
    "4. Scatter Plot: Relación entre \"age\" y \"charges\"\n",
    "* Permite explorar la posible relación entre la edad del paciente y el monto de los gastos médicos."
   ]
  },
  {
   "cell_type": "code",
   "execution_count": null,
   "metadata": {},
   "outputs": [],
   "source": [
    "sns.scatterplot(x='age', y='charges', hue='smoker', data=df, palette='coolwarm', s=100)\n",
    "plt.title('Relación entre Edad y Gastos Médicos')\n",
    "plt.xlabel('Edad')\n",
    "plt.ylabel('Gastos Médicos')\n",
    "plt.legend(title='Fumador')\n",
    "plt.show()"
   ]
  },
  {
   "cell_type": "markdown",
   "metadata": {},
   "source": [
    "5. Conteo de Frecuencia para Variables Categóricas\n",
    "* Usamos countplots para ver la distribución de frecuencias de las variables categóricas, como \"sex\", \"smoker\" y \"region\"."
   ]
  },
  {
   "cell_type": "code",
   "execution_count": null,
   "metadata": {},
   "outputs": [],
   "source": [
    "# Variable: Sex\n",
    "plt.figure(figsize=(16, 4))\n",
    "plt.subplot(1, 3, 1)\n",
    "sns.countplot(x='sex', data=df, palette='pastel')\n",
    "plt.title('Frecuencia por Sexo')\n",
    "plt.show()"
   ]
  },
  {
   "cell_type": "code",
   "execution_count": null,
   "metadata": {},
   "outputs": [],
   "source": [
    "# Variable: Smoker\n",
    "plt.figure(figsize=(16, 4))\n",
    "plt.subplot(1, 3, 2)\n",
    "sns.countplot(x='smoker', data=df, palette='pastel')\n",
    "plt.title('Frecuencia por Estado de Fumador')\n",
    "plt.show()"
   ]
  },
  {
   "cell_type": "code",
   "execution_count": null,
   "metadata": {},
   "outputs": [],
   "source": [
    "# Variable: Region\n",
    "plt.figure(figsize=(32, 4))\n",
    "plt.subplot(1, 3, 3)\n",
    "sns.countplot(x='region', data=df, palette='pastel')\n",
    "plt.title('Frecuencia por Región')\n",
    "plt.tight_layout()\n",
    "plt.show()"
   ]
  },
  {
   "cell_type": "markdown",
   "metadata": {},
   "source": [
    "6. Heatmap de Correlaciones\n",
    "\n",
    "* Este mapa de calor muestra la correlación entre las variables numéricas y permite identificar relaciones potenciales."
   ]
  },
  {
   "cell_type": "code",
   "execution_count": null,
   "metadata": {},
   "outputs": [],
   "source": [
    "correlation = df[['age', 'bmi', 'children', 'charges']].corr()\n",
    "sns.heatmap(correlation, annot=True, cmap='coolwarm', fmt=\".2f\")\n",
    "plt.title('Mapa de Calor de Correlaciones')\n",
    "plt.show()"
   ]
  },
  {
   "cell_type": "markdown",
   "metadata": {},
   "source": [
    "#### b. Interpretación las estadísticas de los datos\n"
   ]
  },
  {
   "cell_type": "markdown",
   "metadata": {},
   "source": [
    "Estadísticas del dataset."
   ]
  },
  {
   "cell_type": "code",
   "execution_count": null,
   "metadata": {},
   "outputs": [],
   "source": [
    "df.describe()"
   ]
  },
  {
   "cell_type": "markdown",
   "metadata": {},
   "source": [
    "##### Observaciones"
   ]
  },
  {
   "cell_type": "markdown",
   "metadata": {},
   "source": [
    "1. Normalización evidente"
   ]
  },
  {
   "cell_type": "markdown",
   "metadata": {},
   "source": [
    "Los datos de la media (mean) en cada variable son prácticamente cero, del mismo modo, los de la deviación estándar (std) están muy cerca a uno, lo cual muestra un claro proceso previo de normalización, que fue lo hicimos previamente en nuestro caso.\n",
    "Esto nos será útil posteriormente para facilitar las comparaciones y el análisis exploratorio."
   ]
  },
  {
   "cell_type": "markdown",
   "metadata": {},
   "source": [
    "2. Registros consistentes"
   ]
  },
  {
   "cell_type": "markdown",
   "metadata": {},
   "source": [
    "El número de registros (count) es consistente en cada variable, lo cual nos asegura que no se han perdido datos en el proceso."
   ]
  },
  {
   "cell_type": "markdown",
   "metadata": {},
   "source": [
    "3. Encoder presente"
   ]
  },
  {
   "cell_type": "markdown",
   "metadata": {},
   "source": [
    "Los valores de las variables sex, smoker y region, se han codificado de modo que se ajusten a la misma escala que las demás variables.\n",
    "\n",
    "Por ejemplo, en el caso de smoker, se puede ver que el percentil 25 y el valor mínimo (min) tienen valores fijos, lo que sugiere una codificación binaria con una asignación particular de valores que se ha transformado para cumplir con el estándar de media cero y varianza unitaria."
   ]
  },
  {
   "cell_type": "markdown",
   "metadata": {},
   "source": [
    "##### Conclusión"
   ]
  },
  {
   "cell_type": "markdown",
   "metadata": {},
   "source": [
    "Estas estadísticas descriptivas permiten confirmar que el proceso de preprocesamiento y normalización se ha ejecutado correctamente."
   ]
  },
  {
   "cell_type": "markdown",
   "metadata": {},
   "source": [
    "## 4. Entrenamiento del modelo\n"
   ]
  },
  {
   "cell_type": "markdown",
   "metadata": {},
   "source": [
    "Nombres de los modelos a entrenar."
   ]
  },
  {
   "cell_type": "code",
   "execution_count": null,
   "metadata": {},
   "outputs": [],
   "source": [
    "MODEL_NAMES = [\n",
    "    \"Ordinary Least Squares\",\n",
    "    \"Ridge Regression\",\n",
    "    \"Bayesian Regression\",\n",
    "    \"Lasso Regression\",\n",
    "    \"Nearest Neighbors Regression\",\n",
    "    \"Random Forest Regression\",\n",
    "    \"SVM Regression\",\n",
    "    \"Neural Network MLP Regression\",\n",
    "]"
   ]
  },
  {
   "cell_type": "markdown",
   "metadata": {},
   "source": [
    "##### Setup inicial"
   ]
  },
  {
   "cell_type": "markdown",
   "metadata": {},
   "source": [
    "a. División del dataset en entradas y salidas/etiquetas (x, y)."
   ]
  },
  {
   "cell_type": "code",
   "execution_count": null,
   "metadata": {},
   "outputs": [],
   "source": [
    "# Variables de entrada\n",
    "X = df.drop(\"charges\", axis=1)\n",
    "\n",
    "# Variable de salida\n",
    "y = df[\"charges\"]"
   ]
  },
  {
   "cell_type": "markdown",
   "metadata": {},
   "source": [
    "b. División del dataset en entrenamiento y testeo."
   ]
  },
  {
   "cell_type": "code",
   "execution_count": null,
   "metadata": {},
   "outputs": [],
   "source": [
    "# (80% entrenamiento, 20% testeo)\n",
    "X_train, X_test, y_train, y_test = train_test_split(X, y, test_size=0.2, random_state=0)"
   ]
  },
  {
   "cell_type": "markdown",
   "metadata": {},
   "source": [
    "##### Creación de los modelos"
   ]
  },
  {
   "cell_type": "code",
   "execution_count": null,
   "metadata": {},
   "outputs": [],
   "source": [
    "# Ordinary Least Squares Regression\n",
    "ols_model = LinearRegression()\n",
    "\n",
    "# Ridge Regression\n",
    "ridge_model = Ridge(alpha=1.0)\n",
    "\n",
    "# Bayesian Regression\n",
    "bayesian_model = BayesianRidge()\n",
    "\n",
    "# Lasso Regression\n",
    "lasso_model = Lasso(alpha=0.1)\n",
    "\n",
    "# Nearest Neighbors Regression\n",
    "knn_model = KNeighborsRegressor(n_neighbors=5)\n",
    "\n",
    "# Random Forest Regression\n",
    "rf_model = RandomForestRegressor(n_estimators=100, random_state=1, n_jobs=-1)\n",
    "\n",
    "# SVM (Support Vector Machine) Regression\n",
    "svm_model = SVR(kernel=\"rbf\", C=1.0, epsilon=0.2)\n",
    "\n",
    "# Neural Network MLP Regression\n",
    "mlp_model = MLPRegressor(hidden_layer_sizes=(100,), max_iter=500, random_state=1)"
   ]
  },
  {
   "cell_type": "code",
   "execution_count": null,
   "metadata": {},
   "outputs": [],
   "source": [
    "# Emparejar cada modelo con su nombre.\n",
    "MODELS = {\n",
    "    k: v\n",
    "    for k, v in zip(\n",
    "        MODEL_NAMES,\n",
    "        [\n",
    "            ols_model,\n",
    "            ridge_model,\n",
    "            bayesian_model,\n",
    "            lasso_model,\n",
    "            knn_model,\n",
    "            rf_model,\n",
    "            svm_model,\n",
    "            mlp_model,\n",
    "        ],\n",
    "    )\n",
    "}"
   ]
  },
  {
   "cell_type": "markdown",
   "metadata": {},
   "source": [
    "Entrenamiento de cada modelo."
   ]
  },
  {
   "cell_type": "code",
   "execution_count": null,
   "metadata": {},
   "outputs": [],
   "source": [
    "for model in MODELS.values():\n",
    "    model.fit(X_train, y_train)"
   ]
  },
  {
   "cell_type": "markdown",
   "metadata": {},
   "source": [
    "## 5. Validación y testeo del modelo\n"
   ]
  },
  {
   "cell_type": "markdown",
   "metadata": {},
   "source": [
    "#### a. Análisis de performance\n"
   ]
  },
  {
   "cell_type": "markdown",
   "metadata": {},
   "source": [
    "Obtener las métricas de cada modelo."
   ]
  },
  {
   "cell_type": "code",
   "execution_count": null,
   "metadata": {},
   "outputs": [],
   "source": [
    "def get_all_metrics(_X_test=X_test, _y_test=y_test):\n",
    "    \"\"\"\n",
    "    Calcula y devuelve las métricas de evaluación para\n",
    "    todos los modelos entrenados.\n",
    "\n",
    "    Parámetros:\n",
    "    _X_test : pd.DataFrame, opcional\n",
    "        Conjunto de datos de prueba con las variables\n",
    "        predictoras. Por defecto usa \"X_test\".\n",
    "\n",
    "    _y_test : pd.Series o np.array, opcional\n",
    "        Conjunto de valores reales (etiquetas) correspondientes a\n",
    "        las muestras de prueba. Por defecto usa \"y_test\".\n",
    "    \"\"\"\n",
    "\n",
    "    return {\n",
    "        model_name: {\n",
    "            \"R2\": model.score(_X_test, _y_test),\n",
    "            \"MSE\": mean_squared_error(_y_test, model.predict(_X_test)), # type: ignore\n",
    "        }\n",
    "        for model_name, model in MODELS.items()\n",
    "    }\n",
    "\n",
    "METRICS = get_all_metrics()"
   ]
  },
  {
   "cell_type": "markdown",
   "metadata": {},
   "source": [
    "Configuración del dataframe."
   ]
  },
  {
   "cell_type": "code",
   "execution_count": null,
   "metadata": {},
   "outputs": [],
   "source": [
    "def get_metrics_df(metrics):\n",
    "    \"\"\"\n",
    "    Convierte el diccionario de metricas en un DataFrame\n",
    "    y renombra las columnas para una mayor claridad.\n",
    "    \"\"\"\n",
    "\n",
    "    return (pd.DataFrame(metrics).T).rename(columns={\"R2\": \"R² Score\", \"MSE\": \"MSE\"})\n",
    "\n",
    "metrics_df = get_metrics_df(METRICS)"
   ]
  },
  {
   "cell_type": "markdown",
   "metadata": {},
   "source": [
    "##### - R² Score"
   ]
  },
  {
   "cell_type": "code",
   "execution_count": null,
   "metadata": {},
   "outputs": [],
   "source": [
    "def show_R2(df: pd.DataFrame) -> None:\n",
    "    \"\"\"\n",
    "    Muestra un gráfico de barras que compara el R² Score\n",
    "    de cada modelo.\n",
    "\n",
    "    Parámetros:\n",
    "    df : pandas.DataFrame\n",
    "        DataFrame que contiene, al menos, la columna \"R² Score\"\n",
    "        y cuyos índices representan los nombres de los modelos.\n",
    "\n",
    "    Retorna: None\n",
    "        La función únicamente muestra el gráfico, sin retornar ningún valor.\n",
    "    \"\"\"\n",
    "\n",
    "    plt.subplot(1, 2, 1)\n",
    "    sns.barplot(x=df.index, y=df[\"R² Score\"], palette=\"viridis\")\n",
    "    plt.title(\"Comparativa R² Score por Modelo\")\n",
    "    plt.xlabel(\"Modelo\")\n",
    "    plt.ylabel(\"R² Score\")\n",
    "    plt.xticks(rotation=45, ha=\"right\")\n",
    "    plt.tight_layout()\n",
    "    plt.show()\n",
    "\n",
    "show_R2(metrics_df)"
   ]
  },
  {
   "cell_type": "markdown",
   "metadata": {},
   "source": [
    "##### - MSE"
   ]
  },
  {
   "cell_type": "code",
   "execution_count": null,
   "metadata": {},
   "outputs": [],
   "source": [
    "def show_MSE(df: pd.DataFrame) -> None:\n",
    "    \"\"\"\n",
    "    Muestra un gráfico de barras que compara el MSE\n",
    "    de cada modelo.\n",
    "\n",
    "    Parámetros:\n",
    "    df : pandas.DataFrame\n",
    "        DataFrame que contiene al menos la columna \"MSE\" y\n",
    "        cuyos índices representan los nombres de los modelos.\n",
    "\n",
    "    Retorna: None\n",
    "        La función únicamente muestra el gráfico, sin retornar\n",
    "        ningún valor.\n",
    "    \"\"\"\n",
    "\n",
    "    plt.subplot(1, 2, 2)\n",
    "    sns.barplot(x=df.index, y=df[\"MSE\"], palette=\"rocket_r\")\n",
    "    plt.title(\"Comparativa MSE por Modelo\")\n",
    "    plt.xlabel(\"Modelo\")\n",
    "    plt.ylabel(\"MSE\")\n",
    "    plt.xticks(rotation=45, ha=\"right\")\n",
    "    plt.tight_layout()\n",
    "    plt.show()\n",
    "\n",
    "show_MSE(metrics_df)"
   ]
  },
  {
   "cell_type": "markdown",
   "metadata": {},
   "source": [
    "#### b. Selección del algoritmo óptimo\n"
   ]
  },
  {
   "cell_type": "markdown",
   "metadata": {},
   "source": [
    "##### Modelo seleccionado"
   ]
  },
  {
   "cell_type": "markdown",
   "metadata": {},
   "source": [
    "El análisis de las métricas sugiere que el modelo de Neural Network MLP es el más adecuado para este problema."
   ]
  },
  {
   "cell_type": "code",
   "execution_count": null,
   "metadata": {},
   "outputs": [],
   "source": [
    "ALGORITMO_OPTIMO = mlp_model"
   ]
  },
  {
   "cell_type": "markdown",
   "metadata": {},
   "source": [
    "##### Justificación"
   ]
  },
  {
   "cell_type": "markdown",
   "metadata": {},
   "source": [
    "1. El R² Score es de 0.847072, el cual es el más alto de todos los modelos evaluados, es decir, este modelo explica aproximadamente el 84.7% de la variabilidad de los datos."
   ]
  },
  {
   "cell_type": "markdown",
   "metadata": {},
   "source": [
    "2. El MSE (Error Cuadrático Medio) es de 0.175550, el cual es el más bajo de todos los modelos evaluados."
   ]
  },
  {
   "cell_type": "markdown",
   "metadata": {},
   "source": [
    "3. Una red neuronal (MLP) es capaz de aprender y entender relaciones complejas y no lineales con los predictores, como es el caso de los efectos combinados de edad, bmi y hábito de fumar."
   ]
  },
  {
   "cell_type": "markdown",
   "metadata": {},
   "source": [
    "## 6. Despliegue del modelo y comprobación con data recién creada\n"
   ]
  },
  {
   "cell_type": "markdown",
   "metadata": {},
   "source": [
    "##### a. Conversión de data nueva cruda a formato de entrada del algoritmo"
   ]
  },
  {
   "cell_type": "markdown",
   "metadata": {},
   "source": [
    "1. Ruta al dataset de prueba."
   ]
  },
  {
   "cell_type": "code",
   "execution_count": null,
   "metadata": {},
   "outputs": [],
   "source": [
    "dataset_prueba = \"dataset_prueba.csv\""
   ]
  },
  {
   "cell_type": "markdown",
   "metadata": {},
   "source": [
    "2. Cargar y normalizar el dataset de prueba."
   ]
  },
  {
   "cell_type": "code",
   "execution_count": null,
   "metadata": {},
   "outputs": [],
   "source": [
    "df_test = get_dataset(dataset_prueba)\n",
    "df_test = get_normalized_dataset(df_test)\n",
    "\n",
    "# Conjuntos de datos\n",
    "new_X_test = df_test.drop(\"charges\", axis=1)\n",
    "new_y_test = df_test[\"charges\"]"
   ]
  },
  {
   "cell_type": "markdown",
   "metadata": {},
   "source": [
    "##### b. Predicción de categoría del dato"
   ]
  },
  {
   "cell_type": "markdown",
   "metadata": {},
   "source": [
    "Ejecutar la predicción."
   ]
  },
  {
   "cell_type": "code",
   "execution_count": null,
   "metadata": {},
   "outputs": [],
   "source": [
    "def predict() -> pd.DataFrame:\n",
    "    \"\"\"\n",
    "    Genera predicciones utilizando los modelos entrenados\n",
    "    para un conjunto de datos de prueba.\n",
    "    \n",
    "    Retorna: pandas.DataFrame\n",
    "        Un DataFrame que contiene las predicciones de cada modelo (limitado a las primeras filas).\n",
    "    \"\"\"\n",
    "\n",
    "    predictions = {}\n",
    "    for model_name, model in MODELS.items():\n",
    "        predictions[model_name] = model.predict(new_X_test)\n",
    "\n",
    "    return pd.DataFrame(predictions).head()"
   ]
  },
  {
   "cell_type": "code",
   "execution_count": null,
   "metadata": {},
   "outputs": [],
   "source": [
    "predict()"
   ]
  },
  {
   "cell_type": "markdown",
   "metadata": {},
   "source": [
    "Mostrar el rendimiento de cada modelo."
   ]
  },
  {
   "cell_type": "code",
   "execution_count": null,
   "metadata": {},
   "outputs": [],
   "source": [
    "def show_performance() -> None:\n",
    "    \"\"\"\n",
    "    Calcula y muestra las métricas de rendimiento de todos los\n",
    "    modelos para un conjunto de datos de prueba.\n",
    "\n",
    "    Retorna: None\n",
    "    \"\"\"\n",
    "\n",
    "    metrics = get_all_metrics(new_X_test, new_y_test)\n",
    "    metrics_df = get_metrics_df(metrics)\n",
    "    show_R2(metrics_df)\n",
    "    show_MSE(metrics_df)"
   ]
  },
  {
   "cell_type": "code",
   "execution_count": null,
   "metadata": {},
   "outputs": [],
   "source": [
    "show_performance()"
   ]
  }
 ],
 "metadata": {
  "kernelspec": {
   "display_name": "Python 3",
   "language": "python",
   "name": "python3"
  },
  "language_info": {
   "codemirror_mode": {
    "name": "ipython",
    "version": 3
   },
   "file_extension": ".py",
   "mimetype": "text/x-python",
   "name": "python",
   "nbconvert_exporter": "python",
   "pygments_lexer": "ipython3",
   "version": "3.11.8"
  }
 },
 "nbformat": 4,
 "nbformat_minor": 2
}
